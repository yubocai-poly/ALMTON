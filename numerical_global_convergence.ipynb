{
 "cells": [
  {
   "cell_type": "markdown",
   "metadata": {},
   "source": [
    "## Section 4.2 - Comparison of numerical methods\n",
    "\n",
    "---\n",
    "\n",
    "$$\n",
    "\\begin{array}{|l|l|c|}\n",
    "\\hline \\text { Function } & \\text { Definition } & \\text { Global minimum } \\\\\n",
    "\\hline \\text { Bohachevsky } & x^2+2 y^2-.3 \\cos (3 \\pi x)-.4 \\cos (4 \\pi y)+.7 & (0,0) \\\\\n",
    "\\hline \\text { McCormick } & \\sin (x+y)+(x-y)^2-1.5 x+2.5 y+1 & \\text { None } \\\\\n",
    "\\hline \\text { Beale } & (1.5-x+x y)^2+\\left(2.25-x+x y^2\\right)+\\left(2.625-x+x y^3\\right)^2 & (3, .5) \\\\\n",
    "\\hline \\text { Himmelblau } & \\left(x^2+y-11\\right)^2+\\left(x+y^2-7\\right)^2 & (3,2) \\\\\n",
    "\\hline\n",
    "\\end{array}\n",
    "$$"
   ]
  },
  {
   "cell_type": "code",
   "execution_count": null,
   "metadata": {},
   "outputs": [],
   "source": [
    "import numpy as np\n",
    "import cvxpy as cvx\n",
    "import numpy.linalg as LA\n",
    "from Numerical import *"
   ]
  },
  {
   "cell_type": "markdown",
   "metadata": {},
   "source": [
    "### Beale"
   ]
  },
  {
   "cell_type": "code",
   "execution_count": null,
   "metadata": {},
   "outputs": [],
   "source": [
    "FUNCTION_NAME = \"Beale\"\n",
    "\n",
    "# re-run the code below if you want to generate a new dataset\n",
    "# uncomment the next line to generate a new dataset\n",
    "# newton_fractal_dataset(FUNCTION_NAME, 100, 1e-6, [10, 10], save_path=f\"results/{FUNCTION_NAME}_fractal_profile.pkl\")\n",
    "newton_fractal_plot(FUNCTION_NAME, [10, 10], dataset_path=f\"results/{FUNCTION_NAME}_fractal_profile.pkl\", save_path=f\"figures/{FUNCTION_NAME}_fractal_profile.pdf\")"
   ]
  },
  {
   "cell_type": "markdown",
   "metadata": {},
   "source": [
    "### Himmelblau"
   ]
  },
  {
   "cell_type": "code",
   "execution_count": null,
   "metadata": {},
   "outputs": [],
   "source": [
    "FUNCTION_NAME = \"Himmelblau\"\n",
    "\n",
    "# re-run the code below if you want to generate a new dataset\n",
    "# uncomment the next line to generate a new dataset\n",
    "# newton_fractal_dataset(FUNCTION_NAME, 100, 1e-6, [10, 10], save_path=f\"results/{FUNCTION_NAME}_fractal_profile.pkl\")\n",
    "newton_fractal_plot(FUNCTION_NAME, [10, 10], dataset_path=f\"results/{FUNCTION_NAME}_fractal_profile.pkl\", save_path=f\"figures/{FUNCTION_NAME}_fractal_profile.pdf\")"
   ]
  },
  {
   "cell_type": "markdown",
   "metadata": {},
   "source": [
    "### McCormicky"
   ]
  },
  {
   "cell_type": "code",
   "execution_count": null,
   "metadata": {},
   "outputs": [],
   "source": [
    "FUNCTION_NAME = \"McCormick\"\n",
    "\n",
    "# re-run the code below if you want to generate a new dataset\n",
    "# uncomment the next line to generate a new dataset\n",
    "# newton_fractal_dataset(FUNCTION_NAME, 100, 1e-6, [10, 10], save_path=f\"results/{FUNCTION_NAME}_fractal_profile.pkl\")\n",
    "newton_fractal_plot(FUNCTION_NAME, [10, 10], dataset_path=f\"results/{FUNCTION_NAME}_fractal_profile.pkl\", save_path=f\"figures/{FUNCTION_NAME}_fractal_profile.pdf\")"
   ]
  },
  {
   "cell_type": "markdown",
   "metadata": {},
   "source": [
    "### Bohachevsky"
   ]
  },
  {
   "cell_type": "code",
   "execution_count": null,
   "metadata": {},
   "outputs": [],
   "source": [
    "FUNCTION_NAME = \"Bohachevsky\"\n",
    "\n",
    "# re-run the code below if you want to generate a new dataset\n",
    "# uncomment the next line to generate a new dataset\n",
    "# newton_fractal_dataset(FUNCTION_NAME, 100, 1e-6, [10, 10], save_path=f\"results/{FUNCTION_NAME}_fractal_profile.pkl\")\n",
    "newton_fractal_plot(FUNCTION_NAME, [10, 10], dataset_path=f\"results/{FUNCTION_NAME}_fractal_profile.pkl\", save_path=f\"figures/{FUNCTION_NAME}_fractal_profile.pdf\")"
   ]
  }
 ],
 "metadata": {
  "kernelspec": {
   "display_name": "mlp",
   "language": "python",
   "name": "python3"
  },
  "language_info": {
   "codemirror_mode": {
    "name": "ipython",
    "version": 3
   },
   "file_extension": ".py",
   "mimetype": "text/x-python",
   "name": "python",
   "nbconvert_exporter": "python",
   "pygments_lexer": "ipython3",
   "version": "3.12.7"
  }
 },
 "nbformat": 4,
 "nbformat_minor": 2
}
