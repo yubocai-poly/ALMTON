{
 "cells": [
  {
   "cell_type": "markdown",
   "id": "18c0356f",
   "metadata": {},
   "source": [
    "## Section 4.1 - Numerical studies of the initial parameter setting\n",
    "\n",
    "---\n",
    "\n",
    "$$\n",
    "\\begin{array}{|l|l|c|}\n",
    "\\hline \\text { Function } & \\text { Definition } & \\text { Global minimum } \\\\\n",
    "\\hline \\text { Bohachevsky } & x^2+2 y^2-.3 \\cos (3 \\pi x)-.4 \\cos (4 \\pi y)+.7 & (0,0) \\\\\n",
    "\\hline \\text { McCormick } & \\sin (x+y)+(x-y)^2-1.5 x+2.5 y+1 & \\text { None } \\\\\n",
    "\\hline \\text { Beale } & (1.5-x+x y)^2+\\left(2.25-x+x y^2\\right)+\\left(2.625-x+x y^3\\right)^2 & (3, .5) \\\\\n",
    "\\hline \\text { Himmelblau } & \\left(x^2+y-11\\right)^2+\\left(x+y^2-7\\right)^2 & (3,2) \\\\\n",
    "\\hline\n",
    "\\end{array}\n",
    "$$"
   ]
  },
  {
   "cell_type": "code",
   "execution_count": null,
   "id": "bd870257",
   "metadata": {},
   "outputs": [],
   "source": [
    "import numpy as np\n",
    "import cvxpy as cvx\n",
    "import numpy.linalg as LA\n",
    "from src.Numerical import *"
   ]
  },
  {
   "cell_type": "markdown",
   "id": "9e49690e",
   "metadata": {},
   "source": [
    "### Beale"
   ]
  },
  {
   "cell_type": "code",
   "execution_count": null,
   "id": "ebf0973f",
   "metadata": {},
   "outputs": [],
   "source": [
    "F_STAR = 0.0  # Global minimum of Beale function\n",
    "FUNCTION_NAME = \"Beale\"\n",
    "fX, fx, dx, d2x, d3x = init_func(FUNCTION_NAME)\n",
    "\n",
    "x0 = np.array([[4], [0.3]])  # Initial point\n",
    "max_iterations = 1000\n",
    "tol = 1e-6\n",
    "\n",
    "param_combinations = [(0.1, 0.01), (0.1, 0.3), (0.1, 0.99)]\n",
    "result_list = []\n",
    "\n",
    "for param1, param2 in param_combinations:\n",
    "    param_list = [0.1, param1, param2, 3]\n",
    "\n",
    "    results = ar3_run(fx, dx, d2x, d3x, x0, max_iterations, tol, param_list)\n",
    "    result_list.append(results)\n",
    "\n",
    "plot_multiple_convergence_profiles(\n",
    "    result_list,\n",
    "    F_STAR,\n",
    "    FUNCTION_NAME,\n",
    "    param_combinations,\n",
    "    save_path=f\"figures/{FUNCTION_NAME}_convergence_profile.pdf\",\n",
    ")"
   ]
  },
  {
   "cell_type": "markdown",
   "id": "314e72f4",
   "metadata": {},
   "source": [
    "### Himmelblau"
   ]
  },
  {
   "cell_type": "code",
   "execution_count": null,
   "id": "ba4691c4",
   "metadata": {},
   "outputs": [],
   "source": [
    "F_STAR = 0.0  # Global minimum of Beale function\n",
    "FUNCTION_NAME = \"Himmelblau\"\n",
    "fX, fx, dx, d2x, d3x = init_func(FUNCTION_NAME)\n",
    "\n",
    "x0 = np.array([[7], [6]])  # Initial point\n",
    "max_iterations = 1000\n",
    "tol = 1e-6\n",
    "\n",
    "param_combinations = [(0.1, 0.01), (0.1, 0.3), (0.1, 0.99)]\n",
    "result_list = []\n",
    "\n",
    "for param1, param2 in param_combinations:\n",
    "    param_list = [0.1, param1, param2, 3]\n",
    "\n",
    "    results = ar3_run(fx, dx, d2x, d3x, x0, max_iterations, tol, param_list)\n",
    "    result_list.append(results)\n",
    "\n",
    "plot_multiple_convergence_profiles(\n",
    "    result_list,\n",
    "    F_STAR,\n",
    "    FUNCTION_NAME,\n",
    "    param_combinations,\n",
    "    save_path=f\"figures/{FUNCTION_NAME}_convergence_profile.pdf\",\n",
    ")"
   ]
  }
 ],
 "metadata": {
  "kernelspec": {
   "display_name": "mlp",
   "language": "python",
   "name": "python3"
  },
  "language_info": {
   "codemirror_mode": {
    "name": "ipython",
    "version": 3
   },
   "file_extension": ".py",
   "mimetype": "text/x-python",
   "name": "python",
   "nbconvert_exporter": "python",
   "pygments_lexer": "ipython3",
   "version": "3.12.7"
  }
 },
 "nbformat": 4,
 "nbformat_minor": 5
}
