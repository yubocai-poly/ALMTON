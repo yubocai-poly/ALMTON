{
 "cells": [
  {
   "cell_type": "markdown",
   "id": "ca52f9ff",
   "metadata": {},
   "source": [
    "## Section 5.3 - Comparison Tests\n",
    "\n",
    "---\n",
    "\n",
    "$$\n",
    "\\begin{array}{|l|l|c|}\n",
    "\\hline \\text { Function } & \\text { Definition } & \\text { Global minimum } \\\\\n",
    "\\hline \\text { Bohachevsky } & x^2+2 y^2-.3 \\cos (3 \\pi x)-.4 \\cos (4 \\pi y)+.7 & (0,0) \\\\\n",
    "\\hline \\text { McCormick } & \\sin (x+y)+(x-y)^2-1.5 x+2.5 y+1 & \\text { None } \\\\\n",
    "\\hline \\text { Beale } & (1.5-x+x y)^2+\\left(2.25-x+x y^2\\right)+\\left(2.625-x+x y^3\\right)^2 & (3, .5) \\\\\n",
    "\\hline \\text { Himmelblau } & \\left(x^2+y-11\\right)^2+\\left(x+y^2-7\\right)^2 & (3,2) \\\\\n",
    "\\hline\n",
    "\\end{array}\n",
    "$$"
   ]
  },
  {
   "cell_type": "code",
   "execution_count": null,
   "id": "8393eefd",
   "metadata": {},
   "outputs": [],
   "source": [
    "import numpy as np\n",
    "import cvxpy as cvx\n",
    "import numpy.linalg as LA\n",
    "from src.Numerical import *"
   ]
  },
  {
   "cell_type": "markdown",
   "id": "9be545bd",
   "metadata": {},
   "source": [
    "### Bohachevsky"
   ]
  },
  {
   "cell_type": "code",
   "execution_count": null,
   "id": "4108cdb8",
   "metadata": {},
   "outputs": [],
   "source": [
    "FUNCTION_NAME = \"Bohachevsky\"\n",
    "\n",
    "result = test_comparison_optimizers(\n",
    "    FUNCTION_NAME,\n",
    "    [\n",
    "        np.array([[-1.1], [2.4]]),\n",
    "        np.array([[5.1], [3.1]]),\n",
    "        np.array([[-1.8], [-0.3]]),\n",
    "        np.array([[1.7], [0.2]]),\n",
    "    ],\n",
    "    param_list=[0.1, 0.1, 0.01, 3],\n",
    "    learning_rates_list=[0.05, 0.01, 0.015, 0.02],\n",
    "    save_path=\"tables/\",\n",
    ")"
   ]
  },
  {
   "cell_type": "code",
   "execution_count": null,
   "id": "80ff328d",
   "metadata": {},
   "outputs": [],
   "source": [
    "result"
   ]
  },
  {
   "cell_type": "markdown",
   "id": "e05f8117",
   "metadata": {},
   "source": [
    "### Beale"
   ]
  },
  {
   "cell_type": "code",
   "execution_count": null,
   "id": "4fa3acf4",
   "metadata": {},
   "outputs": [],
   "source": [
    "FUNCTION_NAME = \"Beale\"\n",
    "\n",
    "result = test_comparison_optimizers(\n",
    "    FUNCTION_NAME,\n",
    "    [\n",
    "        np.array([[2.4], [1.9]]),\n",
    "        np.array([[5.0], [-1.0]]),\n",
    "        np.array([[3.2], [-1.5]]),\n",
    "        np.array([[-1.9], [-0.4]]),\n",
    "    ],\n",
    "    param_list=[0.1, 0.1, 0.01, 3],\n",
    "    learning_rates_list=[0.045, 0.035, 0.01, 0.02],\n",
    "    save_path=\"tables/\",\n",
    ")"
   ]
  },
  {
   "cell_type": "code",
   "execution_count": null,
   "id": "539e728f",
   "metadata": {},
   "outputs": [],
   "source": [
    "result"
   ]
  },
  {
   "cell_type": "markdown",
   "id": "d36f8e5c",
   "metadata": {},
   "source": [
    "### Himmelblau"
   ]
  },
  {
   "cell_type": "code",
   "execution_count": null,
   "id": "00448779",
   "metadata": {},
   "outputs": [],
   "source": [
    "FUNCTION_NAME = \"Himmelblau\"\n",
    "\n",
    "result = test_comparison_optimizers(\n",
    "    FUNCTION_NAME,\n",
    "    [\n",
    "        np.array([[2], [1]]),\n",
    "        np.array([[7.0], [8.5]]),\n",
    "        np.array([[4.0], [3.0]]),\n",
    "        np.array([[-5.7], [5.7]]),\n",
    "    ],\n",
    "    param_list=[0.1, 0.1, 0.01, 3],\n",
    "    learning_rates_list=[0.035, 0.025, 0.015, 0.02],\n",
    "    save_path=\"tables/\",\n",
    ")"
   ]
  },
  {
   "cell_type": "code",
   "execution_count": null,
   "id": "559ff127",
   "metadata": {},
   "outputs": [],
   "source": [
    "result"
   ]
  },
  {
   "cell_type": "markdown",
   "id": "0c894fc1",
   "metadata": {},
   "source": [
    "### McCormicky"
   ]
  },
  {
   "cell_type": "code",
   "execution_count": null,
   "id": "57a0e920",
   "metadata": {},
   "outputs": [],
   "source": [
    "FUNCTION_NAME = \"McCormick\"\n",
    "\n",
    "result = test_comparison_optimizers(\n",
    "    FUNCTION_NAME,\n",
    "    [\n",
    "        np.array([[8], [7]]),\n",
    "        np.array([[-7.0], [-8.5]]),\n",
    "        np.array([[21.0], [-19.0]]),\n",
    "        np.array([[-35.7], [152.7]]),\n",
    "    ],\n",
    "    param_list=[0.1, 0.1, 0.01, 3],\n",
    "    learning_rates_list=[0.035, 0.045, 0.01, 0.02],\n",
    "    save_path=\"tables/\",\n",
    ")"
   ]
  },
  {
   "cell_type": "code",
   "execution_count": null,
   "id": "f53f4a07",
   "metadata": {},
   "outputs": [],
   "source": [
    "result"
   ]
  }
 ],
 "metadata": {
  "kernelspec": {
   "display_name": "mlp",
   "language": "python",
   "name": "python3"
  },
  "language_info": {
   "codemirror_mode": {
    "name": "ipython",
    "version": 3
   },
   "file_extension": ".py",
   "mimetype": "text/x-python",
   "name": "python",
   "nbconvert_exporter": "python",
   "pygments_lexer": "ipython3",
   "version": "3.12.7"
  }
 },
 "nbformat": 4,
 "nbformat_minor": 5
}
